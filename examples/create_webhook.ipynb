{
 "cells": [
  {
   "cell_type": "code",
   "execution_count": 17,
   "id": "116cfb54",
   "metadata": {},
   "outputs": [],
   "source": [
    "from webhooks.credo_client_lite import CredoClientLite"
   ]
  },
  {
   "cell_type": "code",
   "execution_count": 18,
   "id": "0475ece0",
   "metadata": {},
   "outputs": [],
   "source": [
    "config_path = \"C:/Users/Nick/docs/employers/credo-ai/scripts/webhooks/.env\"\n",
    "client = CredoClientLite.load_config(config_path)\n"
   ]
  },
  {
   "cell_type": "code",
   "execution_count": 19,
   "id": "6322b1da",
   "metadata": {},
   "outputs": [
    {
     "data": {
      "text/plain": [
       "CredoClientLite(tenant='credoaicse', server='https://api.credo.ai')"
      ]
     },
     "execution_count": 19,
     "metadata": {},
     "output_type": "execute_result"
    }
   ],
   "source": [
    "client"
   ]
  },
  {
   "cell_type": "code",
   "execution_count": 20,
   "id": "6f3347bf",
   "metadata": {},
   "outputs": [
    {
     "name": "stderr",
     "output_type": "stream",
     "text": [
      "[INFO] Authenticated with Credo AI.\n"
     ]
    },
    {
     "data": {
      "text/plain": [
       "True"
      ]
     },
     "execution_count": 20,
     "metadata": {},
     "output_type": "execute_result"
    }
   ],
   "source": [
    "client.authenticate()"
   ]
  },
  {
   "cell_type": "code",
   "execution_count": 21,
   "id": "72888639",
   "metadata": {},
   "outputs": [
    {
     "name": "stderr",
     "output_type": "stream",
     "text": [
      "[INFO] [POST] webhooks - 201 (296ms) Create webhook\n"
     ]
    }
   ],
   "source": [
    "payload = {\n",
    "    \"data\": {\n",
    "        \"type\": \"webhook\",\n",
    "        \"attributes\": {\n",
    "            \"description\": \"Test webhook\",\n",
    "            \"event_types\": [\n",
    "                # \"use_case_governance_status_updated\",\n",
    "                # \"use_case_custom_field_updated\",\n",
    "                \"use_case_review_status_updated\",\n",
    "            ],\n",
    "            \"url\": client.webhook_url,\n",
    "            \"event_type_prefix\": \"CredoAI\",\n",
    "            \"event_type_suffix\": \"v1\",\n",
    "            \"environment\": \"production\",\n",
    "            \"authentication_method\": \"none\",\n",
    "        },\n",
    "    }\n",
    "}\n",
    "response = client.create_webhook(payload)"
   ]
  },
  {
   "cell_type": "code",
   "execution_count": 22,
   "id": "525088e2",
   "metadata": {},
   "outputs": [
    {
     "data": {
      "text/plain": [
       "{'data': {'attributes': {'description': 'Test webhook',\n",
       "   'url': 'https://play.svix.com/in/e_2dRo5Czka1mlhc5J1kr1KZrv4Bp/',\n",
       "   'bucket': None,\n",
       "   'environment': 'production',\n",
       "   'authentication_method': 'none',\n",
       "   'authentication_payload': {},\n",
       "   'authentication_payload_type': None,\n",
       "   'authentication_server': None,\n",
       "   'event_type_prefix': 'CredoAI',\n",
       "   'event_type_suffix': 'v1',\n",
       "   'event_types': ['use_case_review_status_updated']},\n",
       "  'id': 'abm6k4nPqQfd8h9hNGZCkF',\n",
       "  'type': 'webhook',\n",
       "  'relationships': {}},\n",
       " 'included': []}"
      ]
     },
     "execution_count": 22,
     "metadata": {},
     "output_type": "execute_result"
    }
   ],
   "source": [
    "response"
   ]
  },
  {
   "cell_type": "code",
   "execution_count": 23,
   "id": "899ac4f7",
   "metadata": {},
   "outputs": [
    {
     "name": "stderr",
     "output_type": "stream",
     "text": [
      "[INFO] [GET] webhooks/abm6k4nPqQfd8h9hNGZCkF - 200 (37ms) Get webhook\n",
      "[INFO] Webhook config:\n",
      "{\n",
      "  \"data\": {\n",
      "    \"attributes\": {\n",
      "      \"description\": \"Test webhook\",\n",
      "      \"url\": \"https://play.svix.com/in/e_2dRo5Czka1mlhc5J1kr1KZrv4Bp/\",\n",
      "      \"bucket\": null,\n",
      "      \"environment\": \"production\",\n",
      "      \"authentication_method\": \"none\",\n",
      "      \"authentication_payload\": {},\n",
      "      \"authentication_payload_type\": null,\n",
      "      \"authentication_server\": null,\n",
      "      \"event_type_prefix\": \"CredoAI\",\n",
      "      \"event_type_suffix\": \"v1\",\n",
      "      \"event_types\": [\n",
      "        \"use_case_review_status_updated\"\n",
      "      ]\n",
      "    },\n",
      "    \"id\": \"abm6k4nPqQfd8h9hNGZCkF\",\n",
      "    \"type\": \"webhook\",\n",
      "    \"relationships\": {}\n",
      "  },\n",
      "  \"included\": []\n",
      "}\n"
     ]
    }
   ],
   "source": [
    "webhook_id = response.get(\"data\").get(\"id\")\n",
    "response_get = client.get_webhook(webhook_id)"
   ]
  }
 ],
 "metadata": {
  "kernelspec": {
   "display_name": ".venv",
   "language": "python",
   "name": "python3"
  },
  "language_info": {
   "codemirror_mode": {
    "name": "ipython",
    "version": 3
   },
   "file_extension": ".py",
   "mimetype": "text/x-python",
   "name": "python",
   "nbconvert_exporter": "python",
   "pygments_lexer": "ipython3",
   "version": "3.13.5"
  }
 },
 "nbformat": 4,
 "nbformat_minor": 5
}
