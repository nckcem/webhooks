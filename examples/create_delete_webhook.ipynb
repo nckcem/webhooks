{
 "cells": [
  {
   "cell_type": "code",
   "execution_count": 54,
   "id": "116cfb54",
   "metadata": {},
   "outputs": [],
   "source": [
    "from src.app.credo_client_lite import CredoClientLite\n",
    "from datetime import datetime\n",
    "import pytz"
   ]
  },
  {
   "cell_type": "code",
   "execution_count": 55,
   "id": "0475ece0",
   "metadata": {},
   "outputs": [],
   "source": [
    "config_path = \"C:/Users/Nick/docs/employers/credo-ai/scripts/webhooks/.env\"\n",
    "client = CredoClientLite.load_config(config_path)\n"
   ]
  },
  {
   "cell_type": "code",
   "execution_count": 56,
   "id": "6322b1da",
   "metadata": {},
   "outputs": [
    {
     "data": {
      "text/plain": [
       "CredoClientLite(tenant='credoaicse', server='https://api.credo.ai')"
      ]
     },
     "execution_count": 56,
     "metadata": {},
     "output_type": "execute_result"
    }
   ],
   "source": [
    "client"
   ]
  },
  {
   "cell_type": "code",
   "execution_count": 57,
   "id": "6f3347bf",
   "metadata": {},
   "outputs": [
    {
     "name": "stderr",
     "output_type": "stream",
     "text": [
      "[INFO] Authenticated with Credo AI.\n"
     ]
    },
    {
     "data": {
      "text/plain": [
       "True"
      ]
     },
     "execution_count": 57,
     "metadata": {},
     "output_type": "execute_result"
    }
   ],
   "source": [
    "client.authenticate()"
   ]
  },
  {
   "cell_type": "code",
   "execution_count": 58,
   "id": "cef36d80",
   "metadata": {},
   "outputs": [],
   "source": [
    "# Use your desired timezone\n",
    "pacific = pytz.timezone(\"America/Los_Angeles\")\n",
    "now_pacific = datetime.now(pacific)\n",
    "\n",
    "timestamp_str = now_pacific.strftime(\"%Y%m%d %I:%M%p %Z\")"
   ]
  },
  {
   "cell_type": "code",
   "execution_count": 59,
   "id": "7739b5df",
   "metadata": {},
   "outputs": [],
   "source": [
    "payload = {\n",
    "    \"data\": {\n",
    "        \"type\": \"webhook\",\n",
    "        \"attributes\": {\n",
    "            \"description\": f\"Test webhook - {timestamp_str}\",\n",
    "            \"event_types\": [\n",
    "                # \"use_case_review_status_updated\",\n",
    "                # \"use_case_custom_field_updated\",\n",
    "                \"use_case_review_status_updated\",\n",
    "            ],\n",
    "            \"url\": client.webhook_url,\n",
    "            \"event_type_prefix\": \"CredoAI\",\n",
    "            \"event_type_suffix\": \"v1\",\n",
    "            \"environment\": \"production\",\n",
    "            \"authentication_method\": \"none\",\n",
    "        },\n",
    "    }\n",
    "}"
   ]
  },
  {
   "cell_type": "code",
   "execution_count": 60,
   "id": "72888639",
   "metadata": {},
   "outputs": [
    {
     "name": "stderr",
     "output_type": "stream",
     "text": [
      "[INFO] [POST] webhooks - 201 (55ms) Create webhook\n"
     ]
    },
    {
     "data": {
      "text/plain": [
       "{'data': {'attributes': {'description': 'Test webhook - 20250908 11:01PM PDT',\n",
       "   'url': 'https://play.svix.com/in/e_2dRo5Czka1mlhc5J1kr1KZrv4Bp/',\n",
       "   'bucket': None,\n",
       "   'environment': 'production',\n",
       "   'authentication_method': 'none',\n",
       "   'authentication_payload': {},\n",
       "   'authentication_payload_type': None,\n",
       "   'authentication_server': None,\n",
       "   'event_type_prefix': 'CredoAI',\n",
       "   'event_type_suffix': 'v1',\n",
       "   'event_types': ['use_case_review_status_updated']},\n",
       "  'id': 'J6NKhfyrtyx5aBn4hVJeXS',\n",
       "  'type': 'webhook',\n",
       "  'relationships': {}},\n",
       " 'included': []}"
      ]
     },
     "execution_count": 60,
     "metadata": {},
     "output_type": "execute_result"
    }
   ],
   "source": [
    "\n",
    "response_post = client.create_webhook(payload)\n",
    "response_post"
   ]
  },
  {
   "cell_type": "code",
   "execution_count": 61,
   "id": "899ac4f7",
   "metadata": {},
   "outputs": [
    {
     "name": "stderr",
     "output_type": "stream",
     "text": [
      "[INFO] [GET] webhooks/J6NKhfyrtyx5aBn4hVJeXS - 200 (40ms) Get webhook\n",
      "[INFO] Webhook config:\n",
      "{\n",
      "  \"data\": {\n",
      "    \"attributes\": {\n",
      "      \"description\": \"Test webhook - 20250908 11:01PM PDT\",\n",
      "      \"url\": \"https://play.svix.com/in/e_2dRo5Czka1mlhc5J1kr1KZrv4Bp/\",\n",
      "      \"bucket\": null,\n",
      "      \"environment\": \"production\",\n",
      "      \"authentication_method\": \"none\",\n",
      "      \"authentication_payload\": {},\n",
      "      \"authentication_payload_type\": null,\n",
      "      \"authentication_server\": null,\n",
      "      \"event_type_prefix\": \"CredoAI\",\n",
      "      \"event_type_suffix\": \"v1\",\n",
      "      \"event_types\": [\n",
      "        \"use_case_review_status_updated\"\n",
      "      ]\n",
      "    },\n",
      "    \"id\": \"J6NKhfyrtyx5aBn4hVJeXS\",\n",
      "    \"type\": \"webhook\",\n",
      "    \"relationships\": {}\n",
      "  },\n",
      "  \"included\": []\n",
      "}\n"
     ]
    }
   ],
   "source": [
    "webhook_id = response_post.get(\"data\").get(\"id\")\n",
    "response_get = client.get_webhook(webhook_id)"
   ]
  },
  {
   "cell_type": "code",
   "execution_count": 62,
   "id": "40def2b4",
   "metadata": {},
   "outputs": [
    {
     "name": "stderr",
     "output_type": "stream",
     "text": [
      "[INFO] [DELETE] webhooks/J6NKhfyrtyx5aBn4hVJeXS - 204 (41ms) Delete webhook\n"
     ]
    },
    {
     "data": {
      "text/plain": [
       "True"
      ]
     },
     "execution_count": 62,
     "metadata": {},
     "output_type": "execute_result"
    }
   ],
   "source": [
    "response_delete = client.delete_webhook(webhook_id)\n",
    "response_delete"
   ]
  },
  {
   "cell_type": "code",
   "execution_count": 63,
   "id": "b7a2de0e",
   "metadata": {},
   "outputs": [
    {
     "name": "stderr",
     "output_type": "stream",
     "text": [
      "[INFO] [GET] webhooks - 200 (34ms) Get all webhooks\n"
     ]
    },
    {
     "data": {
      "text/plain": [
       "{'data': [], 'included': []}"
      ]
     },
     "execution_count": 63,
     "metadata": {},
     "output_type": "execute_result"
    }
   ],
   "source": [
    "all_webhooks = client.get_webhooks()\n",
    "all_webhooks"
   ]
  },
  {
   "cell_type": "code",
   "execution_count": 64,
   "id": "d16d7771",
   "metadata": {},
   "outputs": [],
   "source": [
    "webhook_ids = [webhook.get(\"id\") for webhook in all_webhooks.get(\"data\")]\n",
    "for webhook_id in webhook_ids:\n",
    "    client.delete_webhook(webhook_id)\n"
   ]
  },
  {
   "cell_type": "code",
   "execution_count": 65,
   "id": "da335b2f",
   "metadata": {},
   "outputs": [
    {
     "name": "stderr",
     "output_type": "stream",
     "text": [
      "[INFO] [GET] webhooks - 200 (35ms) Get all webhooks\n"
     ]
    },
    {
     "data": {
      "text/plain": [
       "{'data': [], 'included': []}"
      ]
     },
     "execution_count": 65,
     "metadata": {},
     "output_type": "execute_result"
    }
   ],
   "source": [
    "all_webhooks = client.get_webhooks()\n",
    "all_webhooks"
   ]
  }
 ],
 "metadata": {
  "kernelspec": {
   "display_name": ".venv",
   "language": "python",
   "name": "python3"
  },
  "language_info": {
   "codemirror_mode": {
    "name": "ipython",
    "version": 3
   },
   "file_extension": ".py",
   "mimetype": "text/x-python",
   "name": "python",
   "nbconvert_exporter": "python",
   "pygments_lexer": "ipython3",
   "version": "3.13.5"
  }
 },
 "nbformat": 4,
 "nbformat_minor": 5
}
